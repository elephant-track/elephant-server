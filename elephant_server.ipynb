{
  "cells": [
    {
      "cell_type": "markdown",
      "metadata": {
        "id": "CuycM4YQBkaM"
      },
      "source": [
        "### (Optional) Uncomment below to use Google Drive as a workspace directory"
      ]
    },
    {
      "cell_type": "code",
      "execution_count": null,
      "metadata": {
        "id": "Fx1aRfKREJLd"
      },
      "outputs": [],
      "source": [
        "# from google.colab import drive\n",
        "# drive.mount('/content/drive')\n",
        "# !ln -sfn /content/drive/MyDrive/elephant_workspace /workspace"
      ]
    },
    {
      "cell_type": "markdown",
      "metadata": {
        "id": "W9IylGOB34tx"
      },
      "source": [
        "# Download ELEPHANT server"
      ]
    },
    {
      "cell_type": "code",
      "execution_count": null,
      "metadata": {
        "id": "CpJPKG_ATv39"
      },
      "outputs": [],
      "source": [
        "%env ELEPHANT_SERVER_VERSION = v0.5.4-dev"
      ]
    },
    {
      "cell_type": "code",
      "execution_count": null,
      "metadata": {
        "id": "X0Hdn56eMre2"
      },
      "outputs": [],
      "source": [
        "!wget -q -c -nc https://github.com/elephant-track/elephant-server/archive/refs/tags/$ELEPHANT_SERVER_VERSION.tar.gz\n",
        "!mkdir -p /opt/elephant\n",
        "!tar -zxf $ELEPHANT_SERVER_VERSION.tar.gz --strip-components=1 -C /opt/elephant\n",
        "!rm $ELEPHANT_SERVER_VERSION.tar.gz"
      ]
    },
    {
      "cell_type": "markdown",
      "metadata": {
        "id": "XmUpXQ3h3-v3"
      },
      "source": [
        "# Set up conda environment"
      ]
    },
    {
      "cell_type": "code",
      "execution_count": null,
      "metadata": {
        "id": "-42Y4tDCXTTQ"
      },
      "outputs": [],
      "source": [
        "%env CONDA_VERSION = py37_4.11.0"
      ]
    },
    {
      "cell_type": "code",
      "execution_count": null,
      "metadata": {
        "id": "CrfCHDcdh3mF"
      },
      "outputs": [],
      "source": [
        "# Acknowledgements:\n",
        "#     https://donaldsrepo.github.io/Notebooks/GoogleColabCondaCreateEnv.html\n",
        "conda_path = ''\n",
        "try:\n",
        "    conda_path = !which conda\n",
        "finally:\n",
        "    print('')\n",
        "\n",
        "if (len(conda_path) == 0):\n",
        "    print('installing miniconda')\n",
        "    !wget https://repo.continuum.io/miniconda/Miniconda3-$CONDA_VERSION-Linux-x86_64.sh\n",
        "    !bash Miniconda3-$CONDA_VERSION-Linux-x86_64.sh -bfp /usr/local\n",
        "    !rm Miniconda3-$CONDA_VERSION-Linux-x86_64.sh\n",
        "    !source /usr/local/etc/profile.d/conda.sh\n",
        "    !conda init\n",
        "    !conda install -c conda-forge -y mamba\n",
        "    !mamba clean -qafy\n",
        "else:\n",
        "    print('found miniconda')\n",
        "\n",
        "!mamba env update -f /opt/elephant/environment.yml\n"
      ]
    },
    {
      "cell_type": "markdown",
      "metadata": {
        "id": "VeJqQlMa4Owl"
      },
      "source": [
        "# Install apt packages"
      ]
    },
    {
      "cell_type": "code",
      "execution_count": null,
      "metadata": {
        "id": "9a8LS0q0h94r"
      },
      "outputs": [],
      "source": [
        "!apt-get update && apt-get install --no-install-recommends --no-install-suggests -y \\\n",
        "    nginx \\\n",
        "    redis-server \\\n",
        "    supervisor \\\n",
        "    ca-certificates \\\n",
        "    curl \\\n",
        "    gnupg \\\n",
        "    gosu \\\n",
        "    openssh-server \\\n",
        "    pwgen"
      ]
    },
    {
      "cell_type": "markdown",
      "metadata": {
        "id": "HPix45234Wky"
      },
      "source": [
        "# Install RabbitMQ"
      ]
    },
    {
      "cell_type": "code",
      "execution_count": null,
      "metadata": {
        "id": "lDzE0j1DiAIu"
      },
      "outputs": [],
      "source": [
        "%%bash\n",
        "apt-get install curl gnupg debian-keyring debian-archive-keyring apt-transport-https --no-install-recommends --no-install-suggests -y\n",
        "\n",
        "## Ignore warnings\n",
        "export APT_KEY_DONT_WARN_ON_DANGEROUS_USAGE=1\n",
        "## Team RabbitMQ's main signing key\n",
        "apt-key adv --keyserver \"hkps://keys.openpgp.org\" --recv-keys \"0x0A9AF2115F4687BD29803A206B73A36E6026DFCA\"\n",
        "## Cloudsmith: modern Erlang repository\n",
        "curl -1sLf https://dl.cloudsmith.io/public/rabbitmq/rabbitmq-erlang/gpg.E495BB49CC4BBE5B.key | apt-key add -\n",
        "## Cloudsmith: RabbitMQ repository\n",
        "curl -1sLf https://dl.cloudsmith.io/public/rabbitmq/rabbitmq-server/gpg.9F4587F226208342.key | apt-key add -\n",
        "\n",
        "## Add apt repositories maintained by Team RabbitMQ\n",
        "tee /etc/apt/sources.list.d/rabbitmq.list <<EOF\n",
        "## Provides modern Erlang/OTP releases\n",
        "##\n",
        "deb https://dl.cloudsmith.io/public/rabbitmq/rabbitmq-erlang/deb/ubuntu bionic main\n",
        "deb-src https://dl.cloudsmith.io/public/rabbitmq/rabbitmq-erlang/deb/ubuntu bionic main\n",
        "\n",
        "## Provides RabbitMQ\n",
        "##\n",
        "deb https://dl.cloudsmith.io/public/rabbitmq/rabbitmq-server/deb/ubuntu bionic main\n",
        "deb-src https://dl.cloudsmith.io/public/rabbitmq/rabbitmq-server/deb/ubuntu bionic main\n",
        "EOF\n",
        "\n",
        "## Update package indices\n",
        "apt-get update\n",
        "\n",
        "## Install Erlang packages\n",
        "apt-get install --no-install-recommends --no-install-suggests -y erlang-base \\\n",
        "    erlang-asn1 erlang-crypto erlang-eldap erlang-ftp erlang-inets \\\n",
        "    erlang-mnesia erlang-os-mon erlang-parsetools erlang-public-key \\\n",
        "    erlang-runtime-tools erlang-snmp erlang-ssl \\\n",
        "    erlang-syntax-tools erlang-tftp erlang-tools erlang-xmerl\n",
        "\n",
        "## Install rabbitmq-server and its dependencies\n",
        "apt-get install rabbitmq-server --no-install-recommends --no-install-suggests -y --fix-missing"
      ]
    },
    {
      "cell_type": "markdown",
      "metadata": {
        "id": "kWUnujtz4fzz"
      },
      "source": [
        "# Set up services"
      ]
    },
    {
      "cell_type": "code",
      "execution_count": null,
      "metadata": {
        "id": "sWDwbcuhiEBt"
      },
      "outputs": [],
      "source": [
        "# Set up RabbitMQ\n",
        "%env RABBITMQ_USER=user\n",
        "%env RABBITMQ_PASSWORD=user\n",
        "%env RABBITMQ_PID_FILE=/var/lib/rabbitmq/mnesia/rabbitmq.pid\n",
        "!cp /opt/elephant/docker/rabbitmq.sh /rabbitmq.sh\n",
        "!sed -i 's;--timeout 60 ;;g' /rabbitmq.sh\n",
        "!chmod +x /rabbitmq.sh\n",
        "# Set up nginx\n",
        "!cp /opt/elephant/docker/nginx.conf /etc/nginx/nginx.conf\n",
        "!groupadd nginx && useradd -g nginx nginx\n",
        "!ln -sf /dev/stdout /var/log/nginx/access.log\n",
        "!ln -sf /dev/stderr /var/log/nginx/error.log\n",
        "# Set up uWSGI\n",
        "!mkdir -p /etc/uwsgi\n",
        "!cp /opt/elephant/docker/uwsgi.ini /etc/uwsgi/uwsgi.ini\n",
        "!cp -a /opt/elephant/app /app\n",
        "%env UWSGI_UID=root\n",
        "%env UWSGI_GID=root\n",
        "# Set up supervisor\n",
        "!cp /opt/elephant/docker/supervisord.conf /etc/supervisor/conf.d/supervisord.conf\n",
        "!sed -i 's;/opt/conda/bin/uwsgi;uwsgi;g' /etc/supervisor/conf.d/supervisord.conf\n",
        "!sed -i 's;/opt/conda/bin/celery;celery;g' /etc/supervisor/conf.d/supervisord.conf\n",
        "!sed -i 's;user=user;user=root;g' /etc/supervisor/conf.d/supervisord.conf\n",
        "!sed -i 's;group=user;group=root;g' /etc/supervisor/conf.d/supervisord.conf\n",
        "!printf \"\\\n",
        "\\n\\\n",
        "[program:sshd]\\n\\\n",
        "command=/usr/sbin/sshd -D\\n\\\n",
        "autorestart=true\\\n",
        "\" >> /etc/supervisor/conf.d/supervisord.conf\n",
        "%env MKL_THREADING_LAYER=GNU\n",
        "%env RUN_ON_FLASK=\n",
        "\n",
        "# Set up sshd\n",
        "!mkdir -p /var/run/sshd\n",
        "!grep -qxF \"PermitRootLogin yes\" /etc/ssh/sshd_config || echo \"PermitRootLogin yes\" >> /etc/ssh/sshd_config\n",
        "!grep -qxF \"PasswordAuthentication yes\" /etc/ssh/sshd_config || echo \"PasswordAuthentication yes\" >> /etc/ssh/sshd_config"
      ]
    },
    {
      "cell_type": "markdown",
      "metadata": {
        "id": "MAiUxDkr7RTD"
      },
      "source": [
        "# Download ngrok"
      ]
    },
    {
      "cell_type": "code",
      "execution_count": null,
      "metadata": {
        "id": "RdzQk8ai5p-K"
      },
      "outputs": [],
      "source": [
        "!wget -q -c -nc https://bin.equinox.io/c/4VmDzA7iaHb/ngrok-stable-linux-amd64.zip\n",
        "!unzip -qq -n ngrok-stable-linux-amd64.zip -d /opt/ngrok\n",
        "!rm ngrok-stable-linux-amd64.zip"
      ]
    },
    {
      "cell_type": "markdown",
      "metadata": {
        "id": "yqBYhpbQNGtW"
      },
      "source": [
        "# Launch tensorboard"
      ]
    },
    {
      "cell_type": "code",
      "execution_count": null,
      "metadata": {
        "id": "JoRljMTaNArk"
      },
      "outputs": [],
      "source": [
        "%load_ext tensorboard\n",
        "%tensorboard --logdir /workspace/logs"
      ]
    },
    {
      "cell_type": "markdown",
      "metadata": {
        "id": "A_dxnNSqILLH"
      },
      "source": [
        "# Start services"
      ]
    },
    {
      "cell_type": "code",
      "execution_count": null,
      "metadata": {
        "id": "WqDysO6biGfc"
      },
      "outputs": [],
      "source": [
        "# Acknowledgements:\n",
        "# @Tamlyn https://stackoverflow.com/a/53252985\n",
        "import getpass\n",
        "import json\n",
        "import random\n",
        "import string\n",
        "import urllib.request\n",
        "import time\n",
        "\n",
        "#Generate root password\n",
        "password = ''.join(random.choice(string.ascii_letters + string.digits) for i in range(20))\n",
        "\n",
        "#Set root password\n",
        "!echo root:$password | chpasswd\n",
        "\n",
        "#Ask token\n",
        "print(\"Copy authtoken from https://dashboard.ngrok.com/auth\")\n",
        "authtoken = getpass.getpass()\n",
        "\n",
        "#Create tunnel\n",
        "get_ipython().system_raw('/opt/ngrok/ngrok authtoken $authtoken && /opt/ngrok/ngrok tcp 22 &')\n",
        "\n",
        "#Get public address and print connect command\n",
        "time.sleep(1)\n",
        "with urllib.request.urlopen('http://localhost:4040/api/tunnels') as response:\n",
        "  data = json.loads(response.read().decode())\n",
        "  for tunnel in data['tunnels']:\n",
        "    if tunnel['name'] == 'command_line':\n",
        "      (host, port) = tunnel['public_url'][6:].split(':')\n",
        "      print('*** SSH information *** ')\n",
        "      print(f'SSH user: root\\tSSH host: {host}\\tSSH port: {port}')\n",
        "      print(f'Root password: {password}')\n",
        "      print('*** For command line interface *** ')\n",
        "      print('SSH port forward commands (Windows):')\n",
        "      print(f'\\tssh.exe -N -L 8080:localhost:80 -o PubkeyAuthentication=no -o TCPKeepAlive=yes -o ServerAliveInterval=30 -p{port} root@{host}')\n",
        "      print(f'\\tssh.exe -N -L 5672:localhost:5672 -o PubkeyAuthentication=no -o TCPKeepAlive=yes -o ServerAliveInterval=30 -p{port} root@{host}')\n",
        "      print('SSH port forward commands (Unix):')\n",
        "      print(f'\\tssh -N -L 8080:localhost:80 -o PubkeyAuthentication=no -o TCPKeepAlive=yes -o ServerAliveInterval=30 -p{port} root@{host}')\n",
        "      print(f'\\tssh -N -L 5672:localhost:5672 -o PubkeyAuthentication=no -o TCPKeepAlive=yes -o ServerAliveInterval=30 -p{port} root@{host}')\n",
        "\n",
        "# Run services\n",
        "%cd /app\n",
        "!unlink /var/run/supervisor.sock\n",
        "for pname in ['rabbitmq', 'epmd', 'uwsgi', 'nginx', 'redis-server', 'sshd']:\n",
        "  !pkill -9 $pname\n",
        "!/usr/bin/supervisord"
      ]
    },
    {
      "cell_type": "code",
      "execution_count": null,
      "metadata": {
        "id": "tn6kRwoA6kTw"
      },
      "outputs": [],
      "source": []
    }
  ],
  "metadata": {
    "accelerator": "GPU",
    "colab": {
      "collapsed_sections": [],
      "name": "elephant_server.ipynb",
      "provenance": []
    },
    "kernelspec": {
      "display_name": "Python 3",
      "name": "python3"
    }
  },
  "nbformat": 4,
  "nbformat_minor": 0
}